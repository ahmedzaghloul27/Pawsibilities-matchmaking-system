{
 "cells": [
  {
   "cell_type": "markdown",
   "metadata": {},
   "source": [
    "import pandas as pd\n",
    "import random\n",
    "\n",
    "breeds_sizes = [\n",
    "    (\"Labrador Retriever\", \"large\"),\n",
    "    (\"Golden Retriever\", \"large\"),\n",
    "    (\"German Shepherd\", \"large\"),\n",
    "    (\"Rottweiler\", \"large\"),\n",
    "    (\"Great Dane\", \"large\"),\n",
    "    (\"Doberman Pinscher\", \"large\"),\n",
    "    (\"Siberian Husky\", \"medium\"),\n",
    "    (\"Bulldog\", \"medium\"),\n",
    "    (\"Boxer\", \"medium\"),\n",
    "    (\"Australian Shepherd\", \"medium\"),\n",
    "    (\"Border Collie\", \"medium\"),\n",
    "    (\"Beagle\", \"small\"),\n",
    "    (\"Dachshund\", \"small\"),\n",
    "    (\"Poodle\", \"small\"),\n",
    "    (\"Chihuahua\", \"small\"),\n",
    "    (\"French Bulldog\", \"small\"),\n",
    "    (\"Yorkshire Terrier\", \"small\"),\n",
    "    (\"Shih Tzu\", \"small\"),\n",
    "    (\"Maltese\", \"small\"),\n",
    "    (\"Pomeranian\", \"small\")\n",
    "]\n",
    "\n",
    "genders = [\"Male\", \"Female\"]\n",
    "\n",
    "num_rows = 200\n",
    "\n",
    "username_list = random.sample(range(1000, 10000), num_rows)\n",
    "\n",
    "data = {\n",
    "    \"username\": [],\n",
    "    \"pet_breed\": [],\n",
    "    \"age\": [],\n",
    "    \"size\": [],\n",
    "    \"gender\": [],\n",
    "    \"latitude\": [],\n",
    "    \"longitude\": []\n",
    "}\n",
    "\n",
    "for i in range(num_rows):\n",
    "    # Pick a random breed-size pair\n",
    "    breed, size = random.choice(breeds_sizes)\n",
    "    \n",
    "    # Random age between 1 and 15\n",
    "    age = random.randint(1, 15)\n",
    "    \n",
    "    # Random gender\n",
    "    gender = random.choice(genders)\n",
    "    \n",
    "    # Random geographic coordinates in Egypt\n",
    "    lat = random.uniform(22.0, 31.0)\n",
    "    lon = random.uniform(25.0, 36.0)\n",
    "    \n",
    "    data[\"username\"].append(username_list[i])\n",
    "    data[\"pet_breed\"].append(breed)\n",
    "    data[\"age\"].append(age)\n",
    "    data[\"size\"].append(size)\n",
    "    data[\"gender\"].append(gender)\n",
    "    data[\"latitude\"].append(lat)\n",
    "    data[\"longitude\"].append(lon)\n",
    "\n",
    "df = pd.DataFrame(data)\n",
    "\n",
    "df.to_csv(\"datasetTest.csv\", index=False)\n",
    "\n",
    "# Show a small sample of the generated data\n",
    "print(\"A dataset with 5,000 rows (all located in Egypt) has been generated and saved to 'clean_pet_dataset_5000.csv'.\")\n",
    "print(df.head(10))\n"
   ]
  },
  {
   "cell_type": "code",
   "execution_count": 156,
   "metadata": {},
   "outputs": [
    {
     "name": "stdout",
     "output_type": "stream",
     "text": [
      "   username            pet_breed  age    size  gender   latitude  longitude\n",
      "0      3253      German Shepherd   12   large    Male  25.982840  31.894171\n",
      "1      9258  Australian Shepherd    7  medium    Male  23.288012  32.897613\n",
      "2      5592       French Bulldog   14   small    Male  25.545165  31.327658\n",
      "3      6728      German Shepherd   12   large  Female  26.419402  28.863693\n",
      "4      9089       Siberian Husky   15  medium    Male  25.983587  32.708617\n",
      "<class 'pandas.core.frame.DataFrame'>\n",
      "RangeIndex: 200 entries, 0 to 199\n",
      "Data columns (total 7 columns):\n",
      " #   Column     Non-Null Count  Dtype  \n",
      "---  ------     --------------  -----  \n",
      " 0   username   200 non-null    int64  \n",
      " 1   pet_breed  200 non-null    object \n",
      " 2   age        200 non-null    int64  \n",
      " 3   size       200 non-null    object \n",
      " 4   gender     200 non-null    object \n",
      " 5   latitude   200 non-null    float64\n",
      " 6   longitude  200 non-null    float64\n",
      "dtypes: float64(2), int64(2), object(3)\n",
      "memory usage: 11.1+ KB\n",
      "None\n",
      "         username         age    latitude   longitude\n",
      "count   200.00000  200.000000  200.000000  200.000000\n",
      "mean   5975.09500    8.095000   26.665650   30.797915\n",
      "std    2633.74194    4.106127    2.506652    2.953792\n",
      "min    1110.00000    1.000000   22.213720   25.179744\n",
      "25%    3613.25000    4.750000   24.473365   28.590580\n",
      "50%    6300.00000    8.000000   26.685073   30.931694\n",
      "75%    8232.50000   12.000000   28.737924   33.246117\n",
      "max    9983.00000   15.000000   30.997001   35.907764\n"
     ]
    }
   ],
   "source": [
    "import pandas as pd\n",
    "import numpy as np\n",
    "import random\n",
    "import tensorflow as tf\n",
    "from tensorflow.keras import layers, models, Input\n",
    "from tensorflow.keras import backend as K\n",
    "from sklearn.preprocessing import StandardScaler\n",
    "from sklearn.model_selection import train_test_split\n",
    "import matplotlib.pyplot as plt\n",
    "\n",
    "# Load your dataset\n",
    "df = pd.read_csv('datasetTest.csv')  # Adjust filename/path if needed\n",
    "\n",
    "# Peek at the data\n",
    "print(df.head())\n",
    "print(df.info())\n",
    "print(df.describe())\n"
   ]
  },
  {
   "cell_type": "code",
   "execution_count": 157,
   "metadata": {},
   "outputs": [],
   "source": [
    "df_original = pd.read_csv('petProfiles.csv')\n",
    "\n",
    "# Keep a copy of the original\n",
    "df_for_model = df_original.copy()\n",
    "\n",
    "# Drop or encode columns in df_for_model, but do NOT change the row order\n",
    "df_for_model.drop(columns=['username'], inplace=True)"
   ]
  },
  {
   "cell_type": "code",
   "execution_count": 158,
   "metadata": {},
   "outputs": [],
   "source": [
    "# Numerical columns we want to normalize\n",
    "numerical_cols = ['age', 'latitude', 'longitude']\n",
    "\n",
    "# Fill missing\n",
    "for col in numerical_cols:\n",
    "    df[col].fillna(df[col].mean(), inplace=True)\n",
    "\n",
    "# Use StandardScaler for normalization\n",
    "scaler = StandardScaler()\n",
    "df[numerical_cols] = scaler.fit_transform(df[numerical_cols])\n"
   ]
  },
  {
   "cell_type": "code",
   "execution_count": 159,
   "metadata": {},
   "outputs": [],
   "source": [
    "categorical_cols = ['pet_breed', 'size', 'gender']\n",
    "df = pd.get_dummies(df, columns=categorical_cols)\n"
   ]
  },
  {
   "cell_type": "code",
   "execution_count": 160,
   "metadata": {},
   "outputs": [
    {
     "name": "stdout",
     "output_type": "stream",
     "text": [
      "pet_features dtype: float32\n",
      "pet_features shape: (200, 28)\n"
     ]
    }
   ],
   "source": [
    "usernames = df['username'].copy()  # Series of user names/IDs\n",
    "\n",
    "if 'username' in df.columns:\n",
    "    df.drop(columns=['username'], inplace=True)\n",
    "\n",
    "# Cast entire DataFrame to float32\n",
    "df = df.astype('float32')\n",
    "\n",
    "# Convert to NumPy array\n",
    "pet_features = df.values  # shape: (num_pets, num_features)\n",
    "print(\"pet_features dtype:\", pet_features.dtype)  # should be float32\n",
    "print(\"pet_features shape:\", pet_features.shape)\n"
   ]
  },
  {
   "cell_type": "code",
   "execution_count": 161,
   "metadata": {},
   "outputs": [],
   "source": [
    "all_columns = list(df.columns)\n",
    "\n",
    "breed_cols = [c for c in all_columns if c.startswith('pet_breed_')]\n",
    "size_cols  = [c for c in all_columns if c.startswith('size_')]\n",
    "gender_cols = [c for c in all_columns if c.startswith('gender_')]\n",
    "\n",
    "# 'age' is numeric, now normalized. We'll find its index:\n",
    "age_index = all_columns.index('age')\n"
   ]
  },
  {
   "cell_type": "code",
   "execution_count": 162,
   "metadata": {},
   "outputs": [],
   "source": [
    "def same_one_hot(vecA, vecB, indices):\n",
    "    \"\"\"Check if vecA and vecB match exactly for all columns in 'indices'.\"\"\"\n",
    "    return np.allclose(vecA[indices], vecB[indices])  # or (vecA[indices] == vecB[indices]) for ints\n",
    "\n",
    "def age_similar(vecA, vecB, idx_age, max_diff=0.2):\n",
    "    \"\"\"\n",
    "    Because 'age' is normalized, a difference of 0.2 might correspond to ~2 years in original scale,\n",
    "    depending on how StandardScaler transformed your data.\n",
    "    Adjust 'max_diff' as needed.\n",
    "    \"\"\"\n",
    "    return abs(vecA[idx_age] - vecB[idx_age]) <= max_diff\n"
   ]
  },
  {
   "cell_type": "code",
   "execution_count": 163,
   "metadata": {},
   "outputs": [
    {
     "name": "stdout",
     "output_type": "stream",
     "text": [
      "Pairs shape: (19900, 2, 28) Labels shape: (19900,)\n"
     ]
    }
   ],
   "source": [
    "pairs = []\n",
    "labels = []\n",
    "\n",
    "num_pets = pet_features.shape[0]\n",
    "\n",
    "# Convert our breed_cols, size_cols, gender_cols to indices\n",
    "breed_indices  = [all_columns.index(c) for c in breed_cols]\n",
    "size_indices   = [all_columns.index(c) for c in size_cols]\n",
    "gender_indices = [all_columns.index(c) for c in gender_cols]\n",
    "\n",
    "for i in range(num_pets - 1):\n",
    "    for j in range(i + 1, num_pets):\n",
    "        petA = pet_features[i]\n",
    "        petB = pet_features[j]\n",
    "        pairs.append([petA, petB])\n",
    "        \n",
    "        # Evaluate similarity\n",
    "        has_same_breed  = same_one_hot(petA, petB, breed_indices)\n",
    "        has_same_size   = same_one_hot(petA, petB, size_indices)\n",
    "        has_same_gender = same_one_hot(petA, petB, gender_indices)\n",
    "        is_age_close    = age_similar(petA, petB, age_index, max_diff=0.2)\n",
    "        \n",
    "        # If all match, label = 1, else 0\n",
    "        label = 1 if (has_same_breed and has_same_size and has_same_gender and is_age_close) else 0\n",
    "        labels.append(label)\n",
    "\n",
    "pairs = np.array(pairs, dtype='float32')\n",
    "labels = np.array(labels, dtype='float32')\n",
    "\n",
    "print(\"Pairs shape:\", pairs.shape, \"Labels shape:\", labels.shape)\n"
   ]
  },
  {
   "cell_type": "code",
   "execution_count": 164,
   "metadata": {},
   "outputs": [],
   "source": [
    "pet_features_1 = pairs[:, 0]\n",
    "pet_features_2 = pairs[:, 1]\n"
   ]
  },
  {
   "cell_type": "code",
   "execution_count": null,
   "metadata": {},
   "outputs": [],
   "source": [
    "def create_subnetwork(input_shape):\n",
    "    inp = Input(shape=input_shape)\n",
    "    x = layers.Dense(64, activation='relu')(inp)\n",
    "    x = layers.Dense(32, activation='relu')(x)\n",
    "    # Final embedding dimension (e.g., 16)\n",
    "    x = layers.Dense(16, activation='relu')(x)\n",
    "    return models.Model(inp, x)\n",
    "\n",
    "input_shape = (pet_features_1.shape[1],)  # e.g. (num_features,)\n",
    "pet_network = create_subnetwork(input_shape)\n"
   ]
  },
  {
   "cell_type": "code",
   "execution_count": null,
   "metadata": {},
   "outputs": [
    {
     "name": "stdout",
     "output_type": "stream",
     "text": [
      "Model: \"model_19\"\n",
      "__________________________________________________________________________________________________\n",
      " Layer (type)                   Output Shape         Param #     Connected to                     \n",
      "==================================================================================================\n",
      " pet1_input (InputLayer)        [(None, 28)]         0           []                               \n",
      "                                                                                                  \n",
      " pet2_input (InputLayer)        [(None, 28)]         0           []                               \n",
      "                                                                                                  \n",
      " model_18 (Functional)          (None, 16)           4464        ['pet1_input[0][0]',             \n",
      "                                                                  'pet2_input[0][0]']             \n",
      "                                                                                                  \n",
      " distance (Lambda)              (None, 1)            0           ['model_18[0][0]',               \n",
      "                                                                  'model_18[1][0]']               \n",
      "                                                                                                  \n",
      "==================================================================================================\n",
      "Total params: 4,464\n",
      "Trainable params: 4,464\n",
      "Non-trainable params: 0\n",
      "__________________________________________________________________________________________________\n"
     ]
    }
   ],
   "source": [
    "input_pet1 = Input(shape=input_shape, name='pet1_input')\n",
    "input_pet2 = Input(shape=input_shape, name='pet2_input')\n",
    "\n",
    "embedding_pet1 = pet_network(input_pet1)\n",
    "embedding_pet2 = pet_network(input_pet2)\n",
    "\n",
    "def euclidean_distance(vectors):\n",
    "    petA, petB = vectors\n",
    "    return tf.sqrt(tf.reduce_sum(tf.square(petA - petB), axis=1, keepdims=True))\n",
    "\n",
    "distance = layers.Lambda(euclidean_distance, name='distance')([embedding_pet1, embedding_pet2])\n",
    "\n",
    "model = models.Model([input_pet1, input_pet2], distance)\n",
    "model.summary()\n"
   ]
  },
  {
   "cell_type": "code",
   "execution_count": null,
   "metadata": {},
   "outputs": [],
   "source": [
    "def contrastive_loss(y_true, y_pred):\n",
    "    # Cast to float32 if needed\n",
    "    y_true = tf.cast(y_true, tf.float32)\n",
    "    margin = 1.0\n",
    "    # y_true=1 => similar => distance^2\n",
    "    # y_true=0 => dissimilar => (max(margin-distance, 0))^2\n",
    "    return K.mean(\n",
    "        y_true * K.square(y_pred) + \n",
    "        (1 - y_true) * K.square(K.maximum(margin - y_pred, 0))\n",
    "    )\n",
    "\n",
    "model.compile(optimizer='adam', loss=contrastive_loss)\n"
   ]
  },
  {
   "cell_type": "code",
   "execution_count": null,
   "metadata": {},
   "outputs": [
    {
     "name": "stdout",
     "output_type": "stream",
     "text": [
      "Epoch 1/10\n",
      "498/498 [==============================] - 6s 10ms/step - loss: 0.0118 - val_loss: 0.0022\n",
      "Epoch 2/10\n",
      "498/498 [==============================] - 4s 8ms/step - loss: 0.0017 - val_loss: 0.0013\n",
      "Epoch 3/10\n",
      "498/498 [==============================] - 4s 9ms/step - loss: 9.3587e-04 - val_loss: 8.8300e-04\n",
      "Epoch 4/10\n",
      "498/498 [==============================] - 5s 10ms/step - loss: 6.0059e-04 - val_loss: 7.9558e-04\n",
      "Epoch 5/10\n",
      "498/498 [==============================] - 5s 10ms/step - loss: 4.7056e-04 - val_loss: 5.8444e-04\n",
      "Epoch 6/10\n",
      "498/498 [==============================] - 3s 7ms/step - loss: 4.7995e-04 - val_loss: 7.3901e-04\n",
      "Epoch 7/10\n",
      "498/498 [==============================] - 4s 8ms/step - loss: 4.6495e-04 - val_loss: 5.1724e-04\n",
      "Epoch 8/10\n",
      "498/498 [==============================] - 5s 10ms/step - loss: 3.1156e-04 - val_loss: 5.0610e-04\n",
      "Epoch 9/10\n",
      "498/498 [==============================] - 3s 7ms/step - loss: 3.7105e-04 - val_loss: 3.9750e-04\n",
      "Epoch 10/10\n",
      "498/498 [==============================] - 2s 5ms/step - loss: 3.3621e-04 - val_loss: 7.8238e-04\n"
     ]
    }
   ],
   "source": [
    "X_train1, X_val1, X_train2, X_val2, y_train, y_val = train_test_split(\n",
    "    pet_features_1, pet_features_2, labels,\n",
    "    test_size=0.2, random_state=42\n",
    ")\n",
    "\n",
    "# Ensure all are float32\n",
    "X_train1 = X_train1.astype('float32')\n",
    "X_train2 = X_train2.astype('float32')\n",
    "X_val1   = X_val1.astype('float32')\n",
    "X_val2   = X_val2.astype('float32')\n",
    "y_train  = y_train.astype('float32')\n",
    "y_val    = y_val.astype('float32')\n",
    "\n",
    "history = model.fit(\n",
    "    [X_train1, X_train2], y_train,\n",
    "    validation_data=([X_val1, X_val2], y_val),\n",
    "    epochs=10, batch_size=32\n",
    ")\n"
   ]
  },
  {
   "cell_type": "code",
   "execution_count": null,
   "metadata": {},
   "outputs": [
    {
     "data": {
      "image/png": "[encoded data removed]",
      "text/plain": [
       "<Figure size 640x480 with 1 Axes>"
      ]
     },
     "metadata": {},
     "output_type": "display_data"
    }
   ],
   "source": [
    "plt.plot(history.history['loss'], label='train loss')\n",
    "plt.plot(history.history['val_loss'], label='val loss')\n",
    "plt.xlabel('Epoch')\n",
    "plt.ylabel('Loss')\n",
    "plt.legend()\n",
    "plt.show()\n"
   ]
  },
  {
   "cell_type": "markdown",
   "metadata": {},
   "source": [
    "The matched users"
   ]
  },
  {
   "cell_type": "code",
   "execution_count": null,
   "metadata": {},
   "outputs": [
    {
     "name": "stdout",
     "output_type": "stream",
     "text": [
      "7/7 [==============================] - 0s 2ms/step\n",
      "1/1 [==============================] - 0s 16ms/step\n",
      "Top matching pet indices for the selected pet: [  0  89   3 144 146]\n"
     ]
    }
   ],
   "source": [
    "# All embeddings\n",
    "all_pet_embeddings = pet_network.predict(pet_features)\n",
    "\n",
    "# Example: pick the first pet\n",
    "new_pet = pet_features[0].reshape(1, -1)\n",
    "new_pet_embedding = pet_network.predict(new_pet)\n",
    "\n",
    "# Distances\n",
    "distances = np.linalg.norm(all_pet_embeddings - new_pet_embedding, axis=1)\n",
    "\n",
    "# Sort by ascending distance\n",
    "top_k = 5\n",
    "closest_indices = np.argsort(distances)[:top_k]\n",
    "print(\"Top matching pet indices for the selected pet:\", closest_indices)\n"
   ]
  },
  {
   "cell_type": "code",
   "execution_count": null,
   "metadata": {},
   "outputs": [
    {
     "name": "stdout",
     "output_type": "stream",
     "text": [
      "1/1 [==============================] - 0s 19ms/step\n",
      "Query User: 3253 was matched with: 8237\n"
     ]
    }
   ],
   "source": [
    "import numpy as np\n",
    "\n",
    "# Suppose you have your final 'all_pet_embeddings' for the entire dataset\n",
    "# and you pick a query index (e.g., 0) to find a match for\n",
    "query_idx = 0\n",
    "query_embedding = pet_network.predict(pet_features[query_idx].reshape(1, -1))\n",
    "\n",
    "# Compute distances to all embeddings\n",
    "distances = np.linalg.norm(all_pet_embeddings - query_embedding, axis=1)\n",
    "\n",
    "# Optionally set the query's own distance to infinity so it doesn't match itself\n",
    "distances[query_idx] = np.inf\n",
    "\n",
    "# Get index of best match\n",
    "best_match_idx = np.argmin(distances)\n",
    "\n",
    "# Now retrieve the username from your separate structure\n",
    "query_username = usernames.iloc[query_idx]\n",
    "matched_username = usernames.iloc[best_match_idx]\n",
    "\n",
    "print(\"Query User:\", query_username, \"was matched with:\", matched_username)\n"
   ]
  },
  {
   "cell_type": "code",
   "execution_count": null,
   "metadata": {},
   "outputs": [
    {
     "name": "stdout",
     "output_type": "stream",
     "text": [
      "Query user: 3253 Top matches: [8237, 6728, 9628, 2076, 4909]\n"
     ]
    }
   ],
   "source": [
    "top_5_idx = np.argsort(distances)[:5]\n",
    "top_5_usernames = usernames.iloc[top_5_idx]\n",
    "print(\"Query user:\", query_username, \"Top matches:\", list(top_5_usernames))\n"
   ]
  },
  {
   "cell_type": "code",
   "execution_count": null,
   "metadata": {},
   "outputs": [
    {
     "name": "stdout",
     "output_type": "stream",
     "text": [
      "Username: 8237\n",
      "age                              0.709255\n",
      "latitude                        -0.921739\n",
      "longitude                        1.124399\n",
      "pet_breed_Australian Shepherd    0.000000\n",
      "pet_breed_Beagle                 0.000000\n",
      "pet_breed_Border Collie          1.000000\n",
      "pet_breed_Boxer                  0.000000\n",
      "pet_breed_Bulldog                0.000000\n",
      "pet_breed_Chihuahua              0.000000\n",
      "pet_breed_Dachshund              0.000000\n",
      "pet_breed_Doberman Pinscher      0.000000\n",
      "pet_breed_French Bulldog         0.000000\n",
      "pet_breed_German Shepherd        0.000000\n",
      "pet_breed_Golden Retriever       0.000000\n",
      "pet_breed_Great Dane             0.000000\n",
      "pet_breed_Labrador Retriever     0.000000\n",
      "pet_breed_Maltese                0.000000\n",
      "pet_breed_Pomeranian             0.000000\n",
      "pet_breed_Poodle                 0.000000\n",
      "pet_breed_Rottweiler             0.000000\n",
      "pet_breed_Shih Tzu               0.000000\n",
      "pet_breed_Siberian Husky         0.000000\n",
      "pet_breed_Yorkshire Terrier      0.000000\n",
      "size_large                       0.000000\n",
      "size_medium                      1.000000\n",
      "size_small                       0.000000\n",
      "gender_Female                    0.000000\n",
      "gender_Male                      1.000000\n",
      "Name: 89, dtype: float32\n"
     ]
    }
   ],
   "source": [
    "# best_match_idx is the row index from the model's perspective\n",
    "print(\"Username:\", usernames.iloc[best_match_idx])\n",
    "\n",
    "# Then show the numeric/one-hot columns from df\n",
    "print(df.iloc[best_match_idx])\n"
   ]
  },
  {
   "cell_type": "code",
   "execution_count": null,
   "metadata": {},
   "outputs": [
    {
     "name": "stdout",
     "output_type": "stream",
     "text": [
      "7/7 [==============================] - 0s 2ms/step\n",
      "=== Query User Details ===\n",
      "username          4860\n",
      "pet_breed       Beagle\n",
      "age                  5\n",
      "size             small\n",
      "gender          Female\n",
      "latitude      27.30059\n",
      "longitude    33.071099\n",
      "Name: 0, dtype: object\n",
      "1/1 [==============================] - 0s 47ms/step\n",
      "\n",
      "=== Top 5 Matched Users for Query User Index 0 ===\n",
      "\n",
      "Match #1 at index 89, distance=1.1193\n",
      "username          5899\n",
      "pet_breed    Chihuahua\n",
      "age                  7\n",
      "size             small\n",
      "gender            Male\n",
      "latitude     28.396488\n",
      "longitude    33.121504\n",
      "Name: 89, dtype: object\n",
      "\n",
      "Match #2 at index 3, distance=1.3330\n",
      "username          8600\n",
      "pet_breed    Dachshund\n",
      "age                 13\n",
      "size             small\n",
      "gender            Male\n",
      "latitude      29.85926\n",
      "longitude    35.052661\n",
      "Name: 3, dtype: object\n",
      "\n",
      "Match #3 at index 144, distance=1.3618\n",
      "username           5461\n",
      "pet_breed    Great Dane\n",
      "age                  15\n",
      "size              large\n",
      "gender           Female\n",
      "latitude      23.955829\n",
      "longitude     29.384066\n",
      "Name: 144, dtype: object\n",
      "\n",
      "Match #4 at index 146, distance=1.4615\n",
      "username           6753\n",
      "pet_breed    Great Dane\n",
      "age                  14\n",
      "size              large\n",
      "gender           Female\n",
      "latitude       26.67933\n",
      "longitude     34.388388\n",
      "Name: 146, dtype: object\n",
      "\n",
      "Match #5 at index 158, distance=1.4686\n",
      "username                   5122\n",
      "pet_breed    Labrador Retriever\n",
      "age                          14\n",
      "size                      large\n",
      "gender                     Male\n",
      "latitude              27.357938\n",
      "longitude             29.590118\n",
      "Name: 158, dtype: object\n"
     ]
    }
   ],
   "source": [
    "import numpy as np\n",
    "\n",
    "# 1. Suppose you've already loaded df_original (the text-based DataFrame)\n",
    "#    and df_for_model (the numeric DataFrame used for training).\n",
    "\n",
    "#    We'll assume df_for_model has been converted to a NumPy array called `pet_features`.\n",
    "#    We also assume you have a trained subnetwork pet_network that outputs embeddings.\n",
    "\n",
    "# 2. Compute embeddings for ALL rows in df_for_model\n",
    "all_pet_embeddings = pet_network.predict(pet_features)  # shape: (N, embed_dim)\n",
    "\n",
    "# 3. Choose a query user by row index in df_original\n",
    "#    For example, let's pick user #0, or search by username if you have a reference\n",
    "query_idx = 0\n",
    "\n",
    "# 4. Display the query user's details\n",
    "print(\"=== Query User Details ===\")\n",
    "print(df_original.iloc[query_idx])  # Full textual info, including username, breed, etc.\n",
    "\n",
    "# 5. Embed the query user using the subnetwork\n",
    "query_vector = pet_features[query_idx].reshape(1, -1)\n",
    "query_embedding = pet_network.predict(query_vector)  # shape: (1, embed_dim)\n",
    "\n",
    "# 6. Compute distances from the query user to all users\n",
    "distances = np.linalg.norm(all_pet_embeddings - query_embedding, axis=1)\n",
    "\n",
    "# Optional: set the query user’s own distance to infinity if you don’t want them matched to themselves\n",
    "distances[query_idx] = np.inf\n",
    "\n",
    "# 7. Find the top K matches by ascending distance\n",
    "top_k = 5\n",
    "closest_indices = np.argsort(distances)[:top_k]\n",
    "\n",
    "# 8. Print the matched users' details\n",
    "print(f\"\\n=== Top {top_k} Matched Users for Query User Index {query_idx} ===\")\n",
    "for rank, match_idx in enumerate(closest_indices, start=1):\n",
    "    print(f\"\\nMatch #{rank} at index {match_idx}, distance={distances[match_idx]:.4f}\")\n",
    "    print(df_original.iloc[match_idx])  # Full details (username, breed, age, etc.)\n"
   ]
  }
 ],
 "metadata": {
  "kernelspec": {
   "display_name": "tf",
   "language": "python",
   "name": "python3"
  },
  "language_info": {
   "codemirror_mode": {
    "name": "ipython",
    "version": 3
   },
   "file_extension": ".py",
   "mimetype": "text/x-python",
   "name": "python",
   "nbconvert_exporter": "python",
   "pygments_lexer": "ipython3",
   "version": "3.9.18"
  }
 },
 "nbformat": 4,
 "nbformat_minor": 2
}
